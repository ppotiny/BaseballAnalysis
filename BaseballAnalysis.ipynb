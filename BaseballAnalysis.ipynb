{
 "cells": [
  {
   "cell_type": "markdown",
   "metadata": {},
   "source": [
    "# Baseball Analysis"
   ]
  },
  {
   "cell_type": "markdown",
   "metadata": {},
   "source": [
    "##### The data in this analysis was taken from http://www.seanlahman.com/baseball-archive/statistics/"
   ]
  },
  {
   "cell_type": "code",
   "execution_count": 1,
   "metadata": {
    "collapsed": true
   },
   "outputs": [],
   "source": [
    "# Let's start by importing all the necessary libraries\n",
    "\n",
    "import numpy as np\n",
    "import pandas as pd\n",
    "import matplotlib.pyplot as plt "
   ]
  },
  {
   "cell_type": "markdown",
   "metadata": {},
   "source": [
    "### My first question concerning this dataset is:\n",
    "### 1) What possible factors are strongly correlated with receiving more votes for awards?\n",
    "\n",
    "##### (I will be looking for correlations of at least <u>0.7</u> based on https://www.andrews.edu/~calkins/math/edrm611/edrm05.htm)\n",
    "\n",
    "#### Since the number of votes received alread describes who won the award, I decided to only use the AwardsShareManagers and AwardsSharePlayers datasets for analysis."
   ]
  },
  {
   "cell_type": "code",
   "execution_count": 11,
   "metadata": {
    "collapsed": false
   },
   "outputs": [
    {
     "name": "stdout",
     "output_type": "stream",
     "text": [
      "First 5 rows of Manager Award Points Data...\n",
      "\n",
      "           awardID  yearID lgID   playerID  pointsWon  pointsMax  votesFirst\n",
      "0  Mgr of the year    1983   AL  altobjo01          7         28           7\n",
      "1  Mgr of the year    1983   AL    coxbo01          4         28           4\n",
      "2  Mgr of the year    1983   AL  larusto01         17         28          17\n",
      "3  Mgr of the year    1983   NL  lasorto01         10         24          10\n",
      "4  Mgr of the year    1983   NL  lillibo01          9         24           9\n",
      "\n",
      "First 5 rows of Player Award Points Data...\n",
      "\n",
      "    awardID  yearID lgID   playerID  pointsWon  pointsMax  votesFirst\n",
      "0  Cy Young    1956   ML   fordwh01        1.0         16         1.0\n",
      "1  Cy Young    1956   ML  maglisa01        4.0         16         4.0\n",
      "2  Cy Young    1956   ML  newcodo01       10.0         16        10.0\n",
      "3  Cy Young    1956   ML  spahnwa01        1.0         16         1.0\n",
      "4  Cy Young    1957   ML  donovdi01        1.0         16         1.0\n"
     ]
    }
   ],
   "source": [
    "# Manager awards and player awards probably have different correlating factors, so let's analyze them separately.\n",
    "\n",
    "manager_awards = pd.read_csv('baseball/AwardsShareManagers.csv')\n",
    "player_awards = pd.read_csv('baseball/AwardsSharePlayers.csv')\n",
    "\n",
    "print \"First 5 rows of Manager Award Points Data...\\n\"\n",
    "print manager_awards.head()\n",
    "print \"\\nFirst 5 rows of Player Award Points Data...\\n\"\n",
    "print player_awards.head()"
   ]
  },
  {
   "cell_type": "markdown",
   "metadata": {},
   "source": [
    "#### After looking at https://en.wikipedia.org/wiki/Major_League_Baseball_Manager_of_the_Year_Award, it looks like the final award score is calculated along with first-place votes. \"pointsWon\" is most likely this score since there are no other point columns other than \"votesFirst\". Either way, it gives us a score that shows the candidate popularity better.\n",
    "\n",
    "#### However, it seems like the maximum voting points varies across each league and year. Therefore, I will address the above quesion using \"pointsWon\" and the ratio of  \"pointsWon\" / \"pointsMax\"</p>"
   ]
  },
  {
   "cell_type": "code",
   "execution_count": 16,
   "metadata": {
    "collapsed": false
   },
   "outputs": [
    {
     "name": "stdout",
     "output_type": "stream",
     "text": [
      "The number of instances where votesFirst is greater than pointsWon\n",
      " - For managers:  0\n",
      " - For players:  1\n"
     ]
    }
   ],
   "source": [
    "# Let's check to see if pointsWon is always greater than votesFirst\n",
    "\n",
    "print \"The number of instances where votesFirst is greater than pointsWon\"\n",
    "print \" - For managers: \", len(manager_awards.loc[manager_awards[\"votesFirst\"] > manager_awards[\"pointsWon\"]])\n",
    "print \" - For players: \", len(player_awards.loc[player_awards[\"votesFirst\"] > player_awards[\"pointsWon\"]])"
   ]
  },
  {
   "cell_type": "markdown",
   "metadata": {},
   "source": [
    "### After checking this one instance, there does not seem to be a significant difference. Therefore, we will keep the data as is.\n",
    "### Here are some plausible factors: \n",
    "<li>For Managers: Number of Wins, Cumulative team rank, Number of games managed </li>\n",
    "<li> For Players: Batters can be measured by their doubles, triples, and homeruns. Pitchers can be measured by outs pitched and saves. </li>\n"
   ]
  },
  {
   "cell_type": "code",
   "execution_count": null,
   "metadata": {
    "collapsed": true
   },
   "outputs": [],
   "source": [
    "# "
   ]
  }
 ],
 "metadata": {
  "kernelspec": {
   "display_name": "Python 2",
   "language": "python",
   "name": "python2"
  },
  "language_info": {
   "codemirror_mode": {
    "name": "ipython",
    "version": 2
   },
   "file_extension": ".py",
   "mimetype": "text/x-python",
   "name": "python",
   "nbconvert_exporter": "python",
   "pygments_lexer": "ipython2",
   "version": "2.7.9"
  }
 },
 "nbformat": 4,
 "nbformat_minor": 0
}
