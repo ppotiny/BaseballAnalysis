{
 "cells": [
  {
   "cell_type": "markdown",
   "metadata": {},
   "source": [
    "# Baseball Analysis\n",
    "##### By: Praneetha Potiny"
   ]
  },
  {
   "cell_type": "markdown",
   "metadata": {},
   "source": [
    "##### The data in this analysis was taken from http://www.seanlahman.com/baseball-archive/statistics/"
   ]
  },
  {
   "cell_type": "code",
   "execution_count": 1,
   "metadata": {
    "collapsed": true
   },
   "outputs": [],
   "source": [
    "# Let's start by importing all the necessary libraries\n",
    "\n",
    "import numpy as np\n",
    "import pandas as pd\n",
    "import matplotlib.pyplot as plt \n",
    "import seaborn as sns"
   ]
  },
  {
   "cell_type": "markdown",
   "metadata": {},
   "source": [
    "### My first question concerning this dataset is:\n",
    "### 1) What possible factors are correlated with receiving pitcher awards? (excluding relief pitchers)\n"
   ]
  },
  {
   "cell_type": "code",
   "execution_count": 2,
   "metadata": {
    "collapsed": false,
    "scrolled": true
   },
   "outputs": [
    {
     "data": {
      "text/plain": [
       "array(['Pitching Triple Crown', 'Triple Crown',\n",
       "       'Baseball Magazine All-Star', 'Most Valuable Player',\n",
       "       'TSN All-Star', 'TSN Guide MVP',\n",
       "       'TSN Major League Player of the Year', 'TSN Pitcher of the Year',\n",
       "       'TSN Player of the Year', 'Rookie of the Year', 'Babe Ruth Award',\n",
       "       'Lou Gehrig Memorial Award', 'World Series MVP', 'Cy Young Award',\n",
       "       'Gold Glove', 'TSN Fireman of the Year', 'All-Star Game MVP',\n",
       "       'Hutch Award', 'Roberto Clemente Award', 'Rolaids Relief Man Award',\n",
       "       'NLCS MVP', 'ALCS MVP', 'Silver Slugger', 'Branch Rickey Award',\n",
       "       'Hank Aaron Award', 'TSN Reliever of the Year',\n",
       "       'Comeback Player of the Year'], dtype=object)"
      ]
     },
     "execution_count": 2,
     "metadata": {},
     "output_type": "execute_result"
    }
   ],
   "source": [
    "# Let's look at the awards in our dataset and see which ones we want to analyze.\n",
    "\n",
    "player_awards = pd.read_csv('baseball/AwardsPlayers.csv')\n",
    "\n",
    "player_awards[\"awardID\"].unique()"
   ]
  },
  {
   "cell_type": "markdown",
   "metadata": {},
   "source": [
    "#### It looks like there are a lot of awards here.\n",
    "####  After looking up which awards have to do with pitching, here is a list of all pitching-related awards:\n",
    "<li> Pitching Triple Crown </li>\n",
    "<li> Cy Young Award </li>\n",
    "<li> TSN Pitcher of the Year </li>"
   ]
  },
  {
   "cell_type": "code",
   "execution_count": 7,
   "metadata": {
    "collapsed": false
   },
   "outputs": [
    {
     "name": "stdout",
     "output_type": "stream",
     "text": [
      "['bondto01' 'heckegu01' 'radboch01' 'keefeti01' 'clarkjo01' 'rusieam01'\n",
      " 'youngcy01' 'wadderu01' 'mathech01' 'johnswa01' 'alexape01' 'vaughhi01'\n",
      " 'vanceda01' 'grovele01' 'gomezle01' 'waltebu01' 'fellebo01' 'newhoha01'\n",
      " 'voisebi01' 'borowha01' 'lemonbo01' 'sainjo01' 'kindeel01' 'polleho01'\n",
      " 'konstji01' 'roepr01' 'shantbo01' 'roberro01' 'portebo01' 'spahnwa01'\n",
      " 'antonjo02' 'fordwh01' 'newcodo01' 'piercbi02' 'turlebo01' 'wynnea01'\n",
      " 'jonessa02' 'lawve01' 'estrach01' 'drysddo01' 'donovdi01' 'koufasa01'\n",
      " 'chancde01' 'grantmu01' 'kaatji01' 'lonboji01' 'mccormi03' 'mclaide01'\n",
      " 'gibsobo01' 'cuellmi01' 'seaveto01' 'perryji01' 'mcdowsa01' 'bluevi01'\n",
      " 'jenkife01' 'perryga01' 'carltst01' 'woodwi01' 'palmeji01' 'bryanro01'\n",
      " 'hunteca01' 'marshmi01' 'jonesra01' 'lylesp01' 'ryanno01' 'guidrro01'\n",
      " 'flanami01' 'suttebr01' 'niekrjo01' 'stonest01' 'fingero01' 'valenfe01'\n",
      " 'morrija02' 'vuckope01' 'stiebda01' 'hoytla01' 'dennyjo01' 'hernawi01'\n",
      " 'sutclri01' 'saberbr01' 'goodedw01' 'clemero02' 'scottmi03' 'bedrost01'\n",
      " 'keyji01' 'violafr01' 'hershor01' 'davisma01' 'welchbo01' 'drabedo01'\n",
      " 'glavito02' 'eckerde01' 'maddugr01' 'mcdowja01' 'coneda01' 'johnsra05'\n",
      " 'hentgpa01' 'smoltjo01' 'martipe02' 'brownke01' 'hamptmi01' 'schilcu01'\n",
      " 'zitoba01' 'hallaro01' 'gagneer01' 'santajo01' 'schmija01' 'colonba01'\n",
      " 'carpech01' 'webbbr01' 'sabatcc01' 'peavyja01' 'leecl02' 'linceti01'\n",
      " 'greinza01' 'hernafe02' 'verlaju01' 'kershcl01' 'priceda01' 'dickera01'\n",
      " 'scherma01' 'klubeco01']\n"
     ]
    }
   ],
   "source": [
    "# Let's find all the pitchers that won at least one award\n",
    "\n",
    "is_pitch = player_awards['awardID'].isin(['Pitching Triple Crown', 'Cy Young Award', 'TSN Pitcher of the Year'])\n",
    "awarded_pitchers = player_awards[is_pitch]['playerID'].unique()\n",
    "\n",
    "print awarded_pitchers"
   ]
  },
  {
   "cell_type": "code",
   "execution_count": 13,
   "metadata": {
    "collapsed": false
   },
   "outputs": [
    {
     "data": {
      "text/html": [
       "<div>\n",
       "<table border=\"1\" class=\"dataframe\">\n",
       "  <thead>\n",
       "    <tr style=\"text-align: right;\">\n",
       "      <th></th>\n",
       "      <th>playerID</th>\n",
       "      <th>yearID</th>\n",
       "      <th>stint</th>\n",
       "      <th>teamID</th>\n",
       "      <th>lgID</th>\n",
       "      <th>W</th>\n",
       "      <th>L</th>\n",
       "      <th>G</th>\n",
       "      <th>GS</th>\n",
       "      <th>CG</th>\n",
       "      <th>...</th>\n",
       "      <th>WP</th>\n",
       "      <th>HBP</th>\n",
       "      <th>BK</th>\n",
       "      <th>BFP</th>\n",
       "      <th>GF</th>\n",
       "      <th>R</th>\n",
       "      <th>SH</th>\n",
       "      <th>SF</th>\n",
       "      <th>GIDP</th>\n",
       "      <th>has_award</th>\n",
       "    </tr>\n",
       "  </thead>\n",
       "  <tbody>\n",
       "    <tr>\n",
       "      <th>68</th>\n",
       "      <td>bondto01</td>\n",
       "      <td>1874</td>\n",
       "      <td>1</td>\n",
       "      <td>BR2</td>\n",
       "      <td>NaN</td>\n",
       "      <td>22</td>\n",
       "      <td>32</td>\n",
       "      <td>55</td>\n",
       "      <td>55</td>\n",
       "      <td>55</td>\n",
       "      <td>...</td>\n",
       "      <td>NaN</td>\n",
       "      <td>NaN</td>\n",
       "      <td>0</td>\n",
       "      <td>NaN</td>\n",
       "      <td>NaN</td>\n",
       "      <td>440</td>\n",
       "      <td>NaN</td>\n",
       "      <td>NaN</td>\n",
       "      <td>NaN</td>\n",
       "      <td>1</td>\n",
       "    </tr>\n",
       "    <tr>\n",
       "      <th>88</th>\n",
       "      <td>bondto01</td>\n",
       "      <td>1875</td>\n",
       "      <td>1</td>\n",
       "      <td>HR1</td>\n",
       "      <td>NaN</td>\n",
       "      <td>19</td>\n",
       "      <td>16</td>\n",
       "      <td>40</td>\n",
       "      <td>39</td>\n",
       "      <td>37</td>\n",
       "      <td>...</td>\n",
       "      <td>NaN</td>\n",
       "      <td>NaN</td>\n",
       "      <td>0</td>\n",
       "      <td>NaN</td>\n",
       "      <td>NaN</td>\n",
       "      <td>152</td>\n",
       "      <td>NaN</td>\n",
       "      <td>NaN</td>\n",
       "      <td>NaN</td>\n",
       "      <td>1</td>\n",
       "    </tr>\n",
       "    <tr>\n",
       "      <th>133</th>\n",
       "      <td>bondto01</td>\n",
       "      <td>1876</td>\n",
       "      <td>1</td>\n",
       "      <td>HAR</td>\n",
       "      <td>NL</td>\n",
       "      <td>31</td>\n",
       "      <td>13</td>\n",
       "      <td>45</td>\n",
       "      <td>45</td>\n",
       "      <td>45</td>\n",
       "      <td>...</td>\n",
       "      <td>8.0</td>\n",
       "      <td>NaN</td>\n",
       "      <td>0</td>\n",
       "      <td>1623.0</td>\n",
       "      <td>0.0</td>\n",
       "      <td>164</td>\n",
       "      <td>NaN</td>\n",
       "      <td>NaN</td>\n",
       "      <td>NaN</td>\n",
       "      <td>1</td>\n",
       "    </tr>\n",
       "    <tr>\n",
       "      <th>167</th>\n",
       "      <td>bondto01</td>\n",
       "      <td>1877</td>\n",
       "      <td>1</td>\n",
       "      <td>BSN</td>\n",
       "      <td>NL</td>\n",
       "      <td>40</td>\n",
       "      <td>17</td>\n",
       "      <td>58</td>\n",
       "      <td>58</td>\n",
       "      <td>58</td>\n",
       "      <td>...</td>\n",
       "      <td>18.0</td>\n",
       "      <td>NaN</td>\n",
       "      <td>0</td>\n",
       "      <td>2165.0</td>\n",
       "      <td>0.0</td>\n",
       "      <td>248</td>\n",
       "      <td>NaN</td>\n",
       "      <td>NaN</td>\n",
       "      <td>NaN</td>\n",
       "      <td>1</td>\n",
       "    </tr>\n",
       "    <tr>\n",
       "      <th>185</th>\n",
       "      <td>bondto01</td>\n",
       "      <td>1878</td>\n",
       "      <td>1</td>\n",
       "      <td>BSN</td>\n",
       "      <td>NL</td>\n",
       "      <td>40</td>\n",
       "      <td>19</td>\n",
       "      <td>59</td>\n",
       "      <td>59</td>\n",
       "      <td>57</td>\n",
       "      <td>...</td>\n",
       "      <td>13.0</td>\n",
       "      <td>NaN</td>\n",
       "      <td>0</td>\n",
       "      <td>2159.0</td>\n",
       "      <td>1.0</td>\n",
       "      <td>222</td>\n",
       "      <td>NaN</td>\n",
       "      <td>NaN</td>\n",
       "      <td>NaN</td>\n",
       "      <td>1</td>\n",
       "    </tr>\n",
       "  </tbody>\n",
       "</table>\n",
       "<p>5 rows × 31 columns</p>\n",
       "</div>"
      ],
      "text/plain": [
       "     playerID  yearID  stint teamID lgID   W   L   G  GS  CG    ...        WP  \\\n",
       "68   bondto01    1874      1    BR2  NaN  22  32  55  55  55    ...       NaN   \n",
       "88   bondto01    1875      1    HR1  NaN  19  16  40  39  37    ...       NaN   \n",
       "133  bondto01    1876      1    HAR   NL  31  13  45  45  45    ...       8.0   \n",
       "167  bondto01    1877      1    BSN   NL  40  17  58  58  58    ...      18.0   \n",
       "185  bondto01    1878      1    BSN   NL  40  19  59  59  57    ...      13.0   \n",
       "\n",
       "     HBP  BK     BFP   GF    R  SH  SF  GIDP  has_award  \n",
       "68   NaN   0     NaN  NaN  440 NaN NaN   NaN          1  \n",
       "88   NaN   0     NaN  NaN  152 NaN NaN   NaN          1  \n",
       "133  NaN   0  1623.0  0.0  164 NaN NaN   NaN          1  \n",
       "167  NaN   0  2165.0  0.0  248 NaN NaN   NaN          1  \n",
       "185  NaN   0  2159.0  1.0  222 NaN NaN   NaN          1  \n",
       "\n",
       "[5 rows x 31 columns]"
      ]
     },
     "execution_count": 13,
     "metadata": {},
     "output_type": "execute_result"
    }
   ],
   "source": [
    "# Let's get the pitcher stats\n",
    "\n",
    "pitcher_stats = pd.read_csv('baseball/Pitching.csv')\n",
    "\n",
    "pitcher_stats['has_award'] = pitcher_stats['playerID'].isin(awarded_pitchers).astype(int)\n",
    "pitcher_stats[pitcher_stats['has_award'] == 1].head()"
   ]
  },
  {
   "cell_type": "markdown",
   "metadata": {},
   "source": [
    "### Here are some plausible factors: \n",
    "My friend, an avid baseball fan, suggested that pitchers can be measured by Earned Run Average (ERA) and winning percentage. So let's start off with that"
   ]
  },
  {
   "cell_type": "code",
   "execution_count": 23,
   "metadata": {
    "collapsed": false
   },
   "outputs": [
    {
     "name": "stderr",
     "output_type": "stream",
     "text": [
      "C:\\Python27\\Lib\\site-packages\\ipykernel\\__main__.py:5: SettingWithCopyWarning: \n",
      "A value is trying to be set on a copy of a slice from a DataFrame.\n",
      "Try using .loc[row_indexer,col_indexer] = value instead\n",
      "\n",
      "See the caveats in the documentation: http://pandas.pydata.org/pandas-docs/stable/indexing.html#indexing-view-versus-copy\n"
     ]
    },
    {
     "data": {
      "text/html": [
       "<div>\n",
       "<table border=\"1\" class=\"dataframe\">\n",
       "  <thead>\n",
       "    <tr style=\"text-align: right;\">\n",
       "      <th></th>\n",
       "      <th>playerID</th>\n",
       "      <th>yearID</th>\n",
       "      <th>lgID</th>\n",
       "      <th>W</th>\n",
       "      <th>G</th>\n",
       "      <th>ERA</th>\n",
       "      <th>has_award</th>\n",
       "      <th>win%</th>\n",
       "    </tr>\n",
       "  </thead>\n",
       "  <tbody>\n",
       "    <tr>\n",
       "      <th>0</th>\n",
       "      <td>bechtge01</td>\n",
       "      <td>1871</td>\n",
       "      <td>NaN</td>\n",
       "      <td>1</td>\n",
       "      <td>3</td>\n",
       "      <td>7.96</td>\n",
       "      <td>0</td>\n",
       "      <td>0.333333</td>\n",
       "    </tr>\n",
       "    <tr>\n",
       "      <th>1</th>\n",
       "      <td>brainas01</td>\n",
       "      <td>1871</td>\n",
       "      <td>NaN</td>\n",
       "      <td>12</td>\n",
       "      <td>30</td>\n",
       "      <td>4.50</td>\n",
       "      <td>0</td>\n",
       "      <td>0.400000</td>\n",
       "    </tr>\n",
       "    <tr>\n",
       "      <th>2</th>\n",
       "      <td>fergubo01</td>\n",
       "      <td>1871</td>\n",
       "      <td>NaN</td>\n",
       "      <td>0</td>\n",
       "      <td>1</td>\n",
       "      <td>27.00</td>\n",
       "      <td>0</td>\n",
       "      <td>0.000000</td>\n",
       "    </tr>\n",
       "    <tr>\n",
       "      <th>3</th>\n",
       "      <td>fishech01</td>\n",
       "      <td>1871</td>\n",
       "      <td>NaN</td>\n",
       "      <td>4</td>\n",
       "      <td>24</td>\n",
       "      <td>4.35</td>\n",
       "      <td>0</td>\n",
       "      <td>0.166667</td>\n",
       "    </tr>\n",
       "    <tr>\n",
       "      <th>4</th>\n",
       "      <td>fleetfr01</td>\n",
       "      <td>1871</td>\n",
       "      <td>NaN</td>\n",
       "      <td>0</td>\n",
       "      <td>1</td>\n",
       "      <td>10.00</td>\n",
       "      <td>0</td>\n",
       "      <td>0.000000</td>\n",
       "    </tr>\n",
       "  </tbody>\n",
       "</table>\n",
       "</div>"
      ],
      "text/plain": [
       "    playerID  yearID lgID   W   G    ERA  has_award      win%\n",
       "0  bechtge01    1871  NaN   1   3   7.96          0  0.333333\n",
       "1  brainas01    1871  NaN  12  30   4.50          0  0.400000\n",
       "2  fergubo01    1871  NaN   0   1  27.00          0  0.000000\n",
       "3  fishech01    1871  NaN   4  24   4.35          0  0.166667\n",
       "4  fleetfr01    1871  NaN   0   1  10.00          0  0.000000"
      ]
     },
     "execution_count": 23,
     "metadata": {},
     "output_type": "execute_result"
    }
   ],
   "source": [
    "# For now we only want to obtain the current variables needed for analysis\n",
    "\n",
    "pitching_data = pitcher_stats[['playerID', 'yearID', 'lgID', 'W', 'G', 'ERA', 'has_award']]\n",
    "\n",
    "pitching_data['win%'] = pitching_data['W']/pitching_data['G'] \n",
    "\n",
    "pitching_data.head()"
   ]
  },
  {
   "cell_type": "code",
   "execution_count": 27,
   "metadata": {
    "collapsed": false
   },
   "outputs": [
    {
     "data": {
      "text/plain": [
       "<matplotlib.axes._subplots.AxesSubplot at 0x25cb86a0>"
      ]
     },
     "execution_count": 27,
     "metadata": {},
     "output_type": "execute_result"
    },
    {
     "data": {
      "image/png": "[encoded data removed]",
      "text/plain": [
       "<matplotlib.figure.Figure at 0x25ba7780>"
      ]
     },
     "metadata": {},
     "output_type": "display_data"
    }
   ],
   "source": [
    "%matplotlib inline\n",
    "\n",
    "f, (ax1, ax2) = plt.subplots(1, 2, sharex = True, figsize=(10,5))\n",
    "\n",
    "plt.ylim(0, 50)\n",
    "\n",
    "sns.boxplot(ax=ax1, x=pitching_data['has_award'], y=pitching_data['win%'])\n",
    "sns.boxplot(ax=ax2, x=pitching_data['has_award'], y=pitching_data['ERA'])\n"
   ]
  },
  {
   "cell_type": "markdown",
   "metadata": {},
   "source": [
    "#### There are plenty of outliers for winning percentage, but overall it seems to have an effect on getting an award even though there is a large variance. On the other hand, the Earned Run Average has too many outliers. It seems to not be correlated to getting an award. The inner 50% of the data for both conditions is almost in the same range.\n",
    "\n",
    "#### Let's try analyzing Strikeouts and Shutouts. "
   ]
  },
  {
   "cell_type": "code",
   "execution_count": 34,
   "metadata": {
    "collapsed": false
   },
   "outputs": [
    {
     "data": {
      "text/plain": [
       "<matplotlib.axes._subplots.AxesSubplot at 0x250981d0>"
      ]
     },
     "execution_count": 34,
     "metadata": {},
     "output_type": "execute_result"
    },
    {
     "data": {
      "image/png": "[encoded data removed]",
      "text/plain": [
       "<matplotlib.figure.Figure at 0x27069390>"
      ]
     },
     "metadata": {},
     "output_type": "display_data"
    }
   ],
   "source": [
    "pitching_data = pitcher_stats[['playerID', 'yearID', 'lgID', 'SO', 'SHO', 'has_award']]\n",
    "\n",
    "f, (ax1, ax2) = plt.subplots(1, 2, sharex = True, figsize=(10,5))\n",
    "\n",
    "sns.boxplot(ax=ax1, x=pitching_data['has_award'], y=pitching_data['SO'])\n",
    "sns.boxplot(ax=ax2, x=pitching_data['has_award'], y=pitching_data['SHO'])"
   ]
  },
  {
   "cell_type": "code",
   "execution_count": 44,
   "metadata": {
    "collapsed": false
   },
   "outputs": [
    {
     "name": "stdout",
     "output_type": "stream",
     "text": [
      "8502  out of \n",
      "41415 players\n",
      "do not have an award and\n",
      "do not have more than 0 shutouts\n"
     ]
    }
   ],
   "source": [
    "print len(pitching_data.loc[(pitching_data['SHO'] > 0) & (pitching_data['has_award'] == 0)]), \" out of \"\n",
    "print len(pitching_data.loc[pitching_data['has_award'] == 0]), \"players\"\n",
    "print \"do not have an award and\"\n",
    "print \"do not have more than 0 shutouts\""
   ]
  },
  {
   "cell_type": "markdown",
   "metadata": {},
   "source": [
    "##### Both variables seem to help predict award-winners:\n",
    "- Players with many strikeouts and no awards are mostly outliers. The IQR for award-winning players is clearly higher when it comes to causing strikeouts and there are less outliers.\n",
    "- The second graph seems really strange because you can't see the non-award-winning player data. However after calculating using the above numbers, we can see that only around <b>20%</b> of non-award-winners had more than 0 shutouts (8502/41415 = 0.207). This greatly skewed the standard deviation of the data. "
   ]
  },
  {
   "cell_type": "markdown",
   "metadata": {},
   "source": [
    "#### Different Analysis\n",
    "Having or not having an award is one way to answer the question of what factors correlate to getting an award. So far, we've seen that award-winners are more likely to have higher strikeouts, shutouts, and winning percentage than non-award-winners.\n",
    "\n",
    "Let's try answering the question in a different way. Instead of differentiating between award-winners and non-award-winners, <b>we'll differentiate between the stats of players before and after they got their award</b>. This has the possibility of removing outliers."
   ]
  },
  {
   "cell_type": "code",
   "execution_count": null,
   "metadata": {
    "collapsed": true
   },
   "outputs": [],
   "source": []
  }
 ],
 "metadata": {
  "kernelspec": {
   "display_name": "Python 2",
   "language": "python",
   "name": "python2"
  },
  "language_info": {
   "codemirror_mode": {
    "name": "ipython",
    "version": 2
   },
   "file_extension": ".py",
   "mimetype": "text/x-python",
   "name": "python",
   "nbconvert_exporter": "python",
   "pygments_lexer": "ipython2",
   "version": "2.7.9"
  }
 },
 "nbformat": 4,
 "nbformat_minor": 0
}
